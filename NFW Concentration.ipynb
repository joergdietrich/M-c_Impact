{
 "cells": [
  {
   "cell_type": "code",
   "execution_count": 40,
   "metadata": {},
   "outputs": [],
   "source": [
    "import numpy as np\n",
    "import matplotlib as mpl\n",
    "import matplotlib.pyplot as plt\n",
    "from scipy.optimize import minimize\n",
    "\n",
    "from astropy.cosmology import FlatLambdaCDM\n",
    "from NFW.nfw import NFW\n",
    "from NFW import mass_concentration\n",
    "\n",
    "from colossus.cosmology import cosmology as colossuscosmo\n",
    "from colossus.halo import concentration\n",
    "\n",
    "%matplotlib inline\n",
    "mpl.rcParams.update(mpl.rcParamsDefault)\n",
    "\n",
    "from ipywidgets import interactive"
   ]
  },
  {
   "cell_type": "code",
   "execution_count": 5,
   "metadata": {},
   "outputs": [],
   "source": [
    "cosmo = FlatLambdaCDM(H0=70, Om0=0.3)\n",
    "params = {'flat': True, 'H0': cosmo.H0.value,\n",
    "          'Om0': cosmo.Om0, 'Ob0': 0.046,\n",
    "          'sigma8': 0.81, 'ns': 0.95}\n",
    "colossus_cosmo = colossuscosmo.setCosmology('myCosmo', params)"
   ]
  },
  {
   "cell_type": "code",
   "execution_count": 14,
   "metadata": {},
   "outputs": [
    {
     "name": "stdout",
     "output_type": "stream",
     "text": [
      "DK15 concentration for a halo of M200c 8.00e+14 at redshift 0.6: 7.01\n",
      "Duffy08+ concentration for a halo of M200c 8.00e+14 at redshift 0.6: 2.85\n"
     ]
    }
   ],
   "source": [
    "z = 0.6\n",
    "m200 = 8e14\n",
    "c200dk = concentration.concentration(m200 / params['H0'] / 100, '200c', z)\n",
    "print(f\"DK15 concentration for a halo of M200c {m200:.2e} at redshift {z}: {c200dk:.3}\")\n",
    "c200duffy = mass_concentration.duffy_concentration(m200, z, cosmo)\n",
    "print(f\"Duffy08+ concentration for a halo of M200c {m200:.2e} at redshift {z}: {c200duffy:.3}\")"
   ]
  },
  {
   "cell_type": "code",
   "execution_count": 36,
   "metadata": {},
   "outputs": [],
   "source": [
    "def likeli(m200, z, cosmo, r, delta_sigma):\n",
    "    c200 = mass_concentration.duffy_concentration(m200, z, cosmo)\n",
    "    nfw = NFW(m200, c200, z, cosmology=cosmo)\n",
    "    delta_sigma_model = nfw.delta_sigma(r)\n",
    "    return np.sum((delta_sigma.value - delta_sigma_model.value)**2)"
   ]
  },
  {
   "cell_type": "code",
   "execution_count": 69,
   "metadata": {},
   "outputs": [],
   "source": [
    "def interactive_fitting(m200, z, inner_radius):\n",
    "    c200dk = concentration.concentration(m200 / params['H0'] / 100, '200c', z)\n",
    "    nfw = NFW(m200, c200, z, cosmology=cosmo)\n",
    "    r = np.logspace(np.log10(inner_radius), 0.4)\n",
    "    delta_sigma = nfw.delta_sigma(r)\n",
    "    res = minimize(likeli, 5e14, args=(z, cosmo, r, delta_sigma), method='Nelder-Mead')\n",
    "    m200fit = res.x[0]\n",
    "    m_err = (m200fit - m200) / m200\n",
    "    \n",
    "    c200duffy = mass_concentration.duffy_concentration(m200fit, z, cosmo)\n",
    "    nfw_duffy = NFW(m200fit, c200duffy, z, cosmology=cosmo)\n",
    "    \n",
    "    r_plot = np.logspace(-1, 0.4)\n",
    "    delta_sigma_true = nfw.delta_sigma(r_plot)\n",
    "    delta_sigma_model = nfw_duffy.delta_sigma(r_plot)\n",
    "    plt.loglog(r_plot, delta_sigma_true, label='Input (DK15)')\n",
    "    plt.loglog(r_plot, delta_sigma_model, label='Best Fit (Duffy08)')\n",
    "    #plt.plot(r_plot, delta_sigma_model - delta_sigma_true)\n",
    "    plt.legend()\n",
    "    plt.xlabel(r\"$r/\\mathrm{Mpc}$\")\n",
    "    plt.ylabel(\"$\\Delta\\Sigma / M_\\odot \\mathrm{Mpc}^2$\")\n",
    "    plt.title(f\"Fractional mass error: {m_err:.3}\")\n",
    "    plt.show()\n",
    "    "
   ]
  },
  {
   "cell_type": "code",
   "execution_count": 72,
   "metadata": {},
   "outputs": [
    {
     "data": {
      "application/vnd.jupyter.widget-view+json": {
       "model_id": "44b98e337ffa4e3885ead91003b41b7f",
       "version_major": 2,
       "version_minor": 0
      },
      "text/plain": [
       "interactive(children=(FloatSlider(value=1050000000000000.0, description='m200', max=2000000000000000.0, min=10…"
      ]
     },
     "metadata": {},
     "output_type": "display_data"
    }
   ],
   "source": [
    "interactive_plot = interactive(interactive_fitting, m200=(1e14, 2e15),\n",
    "                               z=(0.3, 1.2),\n",
    "                               inner_radius=(0.1, 1.5))\n",
    "output = interactive_plot.children[-1]\n",
    "output.layout.height = '500px'\n",
    "interactive_plot"
   ]
  },
  {
   "cell_type": "code",
   "execution_count": null,
   "metadata": {},
   "outputs": [],
   "source": []
  },
  {
   "cell_type": "code",
   "execution_count": null,
   "metadata": {},
   "outputs": [],
   "source": []
  },
  {
   "cell_type": "code",
   "execution_count": null,
   "metadata": {},
   "outputs": [],
   "source": []
  },
  {
   "cell_type": "code",
   "execution_count": null,
   "metadata": {},
   "outputs": [],
   "source": []
  }
 ],
 "metadata": {
  "kernelspec": {
   "display_name": "Python 3",
   "language": "python",
   "name": "python3"
  },
  "language_info": {
   "codemirror_mode": {
    "name": "ipython",
    "version": 3
   },
   "file_extension": ".py",
   "mimetype": "text/x-python",
   "name": "python",
   "nbconvert_exporter": "python",
   "pygments_lexer": "ipython3",
   "version": "3.6.4"
  }
 },
 "nbformat": 4,
 "nbformat_minor": 2
}
